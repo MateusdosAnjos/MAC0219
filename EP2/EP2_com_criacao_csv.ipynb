{
 "cells": [
  {
   "cell_type": "markdown",
   "metadata": {},
   "source": [
    "# EP1: Cálculo do Conjunto de Mandelbrot em Paralelo com Pthreads e OpenMP\n",
    "\n",
    "## Entrega do EP1\n",
    "\n",
    "Preencha o nome dos 5 membros do seu grupo na tabela abaixo:\n",
    "\n",
    "| Nome | NUSP |\n",
    "|------|------|\n",
    "| André Akira Hayashi | 9293011 |\n",
    "| Mateus Agostinho dos Anjos | 9298191 |\n",
    "| Renan Tiago dos Santos Silva | 9793606 |\n",
    "| Rodrigo Toscano Ney | 11361219 |\n",
    "| Bruno Picoli Romano | 6402851 |"
   ]
  },
  {
   "cell_type": "code",
   "execution_count": 1,
   "metadata": {
    "scrolled": true
   },
   "outputs": [
    {
     "name": "stderr",
     "output_type": "stream",
     "text": [
      "\u001b[32m\u001b[1m   Updating\u001b[22m\u001b[39m registry at `~/.julia/registries/General`\n"
     ]
    },
    {
     "name": "stdout",
     "output_type": "stream",
     "text": [
      "\u001b[?25l    "
     ]
    },
    {
     "name": "stderr",
     "output_type": "stream",
     "text": [
      "\u001b[32m\u001b[1m   Updating\u001b[22m\u001b[39m git-repo `https://github.com/JuliaRegistries/General.git`\n"
     ]
    },
    {
     "name": "stdout",
     "output_type": "stream",
     "text": [
      "\u001b[36m\u001b[1mFetching:\u001b[22m\u001b[39m [>                                        ]  0.0 %\r",
      "    \u001b[36m\u001b[1mFetching:\u001b[22m\u001b[39m [=>                                       ]  0.5 %\r",
      "    \u001b[36m\u001b[1mFetching:\u001b[22m\u001b[39m [=>                                       ]  0.9 %\r",
      "    \u001b[36m\u001b[1mFetching:\u001b[22m\u001b[39m [=>                                       ]  1.4 %\r",
      "    \u001b[36m\u001b[1mFetching:\u001b[22m\u001b[39m [=>                                       ]  1.8 %\r",
      "    \u001b[36m\u001b[1mFetching:\u001b[22m\u001b[39m [=>                                       ]  2.3 %\r",
      "    \u001b[36m\u001b[1mFetching:\u001b[22m\u001b[39m [==>                                      ]  2.8 %\r",
      "    \u001b[36m\u001b[1mFetching:\u001b[22m\u001b[39m [==>                                      ]  3.2 %\r",
      "    \u001b[36m\u001b[1mFetching:\u001b[22m\u001b[39m [==>                                      ]  3.7 %\r",
      "    \u001b[36m\u001b[1mFetching:\u001b[22m\u001b[39m [==>                                      ]  4.1 %\r",
      "    \u001b[36m\u001b[1mFetching:\u001b[22m\u001b[39m [==>                                      ]  4.6 %\r",
      "    \u001b[36m\u001b[1mFetching:\u001b[22m\u001b[39m [===>                                     ]  5.0 %\r",
      "    \u001b[36m\u001b[1mFetching:\u001b[22m\u001b[39m [===>                                     ]  5.5 %\r",
      "    \u001b[36m\u001b[1mFetching:\u001b[22m\u001b[39m [===>                                     ]  6.0 %\r",
      "    \u001b[36m\u001b[1mFetching:\u001b[22m\u001b[39m [===>                                     ]  6.4 %\r",
      "    \u001b[36m\u001b[1mFetching:\u001b[22m\u001b[39m [===>                                     ]  6.9 %\r",
      "    \u001b[36m\u001b[1mFetching:\u001b[22m\u001b[39m [===>                                     ]  7.3 %\r",
      "    \u001b[36m\u001b[1mFetching:\u001b[22m\u001b[39m [====>                                    ]  7.8 %\r",
      "    \u001b[36m\u001b[1mFetching:\u001b[22m\u001b[39m [====>                                    ]  8.3 %\r",
      "    \u001b[36m\u001b[1mFetching:\u001b[22m\u001b[39m [====>                                    ]  8.7 %\r",
      "    \u001b[36m\u001b[1mFetching:\u001b[22m\u001b[39m [====>                                    ]  9.2 %\r",
      "    \u001b[36m\u001b[1mFetching:\u001b[22m\u001b[39m [====>                                    ]  9.6 %\r",
      "    \u001b[36m\u001b[1mFetching:\u001b[22m\u001b[39m [=====>                                   ]  10.1 %\r",
      "    \u001b[36m\u001b[1mFetching:\u001b[22m\u001b[39m [=====>                                   ]  10.6 %\r",
      "    \u001b[36m\u001b[1mFetching:\u001b[22m\u001b[39m [=====>                                   ]  11.0 %\r",
      "    \u001b[36m\u001b[1mFetching:\u001b[22m\u001b[39m [=====>                                   ]  11.5 %\r",
      "    \u001b[36m\u001b[1mFetching:\u001b[22m\u001b[39m [=====>                                   ]  11.9 %\r",
      "    \u001b[36m\u001b[1mFetching:\u001b[22m\u001b[39m [=====>                                   ]  12.4 %\r",
      "    \u001b[36m\u001b[1mFetching:\u001b[22m\u001b[39m [======>                                  ]  12.8 %\r",
      "    \u001b[36m\u001b[1mFetching:\u001b[22m\u001b[39m [======>                                  ]  13.3 %\r",
      "    \u001b[36m\u001b[1mFetching:\u001b[22m\u001b[39m [======>                                  ]  13.8 %\r",
      "    \u001b[36m\u001b[1mFetching:\u001b[22m\u001b[39m [======>                                  ]  14.2 %\r",
      "    \u001b[36m\u001b[1mFetching:\u001b[22m\u001b[39m [======>                                  ]  14.7 %\r",
      "    \u001b[36m\u001b[1mFetching:\u001b[22m\u001b[39m [=======>                                 ]  15.1 %\r",
      "    \u001b[36m\u001b[1mFetching:\u001b[22m\u001b[39m [=======>                                 ]  15.6 %\r",
      "    \u001b[36m\u001b[1mFetching:\u001b[22m\u001b[39m [=======>                                 ]  16.1 %\r",
      "    \u001b[36m\u001b[1mFetching:\u001b[22m\u001b[39m [=======>                                 ]  16.5 %\r",
      "    \u001b[36m\u001b[1mFetching:\u001b[22m\u001b[39m [=======>                                 ]  17.0 %\r",
      "    \u001b[36m\u001b[1mFetching:\u001b[22m\u001b[39m [=======>                                 ]  17.4 %\r",
      "    \u001b[36m\u001b[1mFetching:\u001b[22m\u001b[39m [========>                                ]  17.9 %\r",
      "    \u001b[36m\u001b[1mFetching:\u001b[22m\u001b[39m [========>                                ]  18.3 %\r",
      "    \u001b[36m\u001b[1mFetching:\u001b[22m\u001b[39m [========>                                ]  18.8 %\r",
      "    \u001b[36m\u001b[1mFetching:\u001b[22m\u001b[39m [========>                                ]  19.3 %\r",
      "    \u001b[36m\u001b[1mFetching:\u001b[22m\u001b[39m [========>                                ]  19.7 %\r",
      "    \u001b[36m\u001b[1mFetching:\u001b[22m\u001b[39m [=========>                               ]  20.2 %\r",
      "    \u001b[36m\u001b[1mFetching:\u001b[22m\u001b[39m [=========>                               ]  20.6 %\r",
      "    \u001b[36m\u001b[1mFetching:\u001b[22m\u001b[39m [=========>                               ]  21.1 %\r",
      "    \u001b[36m\u001b[1mFetching:\u001b[22m\u001b[39m [=========>                               ]  21.6 %\r",
      "    \u001b[36m\u001b[1mFetching:\u001b[22m\u001b[39m [=========>                               ]  22.0 %\r",
      "    \u001b[36m\u001b[1mFetching:\u001b[22m\u001b[39m [=========>                               ]  22.5 %\r",
      "    \u001b[36m\u001b[1mFetching:\u001b[22m\u001b[39m [==========>                              ]  22.9 %\r",
      "    \u001b[36m\u001b[1mFetching:\u001b[22m\u001b[39m [==========>                              ]  23.4 %\r",
      "    \u001b[36m\u001b[1mFetching:\u001b[22m\u001b[39m [==========>                              ]  23.9 %\r",
      "    \u001b[36m\u001b[1mFetching:\u001b[22m\u001b[39m [==========>                              ]  24.3 %\r",
      "    \u001b[36m\u001b[1mFetching:\u001b[22m\u001b[39m [==========>                              ]  24.8 %\r",
      "    \u001b[36m\u001b[1mFetching:\u001b[22m\u001b[39m [===========>                             ]  25.2 %\r",
      "    \u001b[36m\u001b[1mFetching:\u001b[22m\u001b[39m [===========>                             ]  25.7 %\r",
      "    \u001b[36m\u001b[1mFetching:\u001b[22m\u001b[39m [===========>                             ]  26.1 %\r",
      "    \u001b[36m\u001b[1mFetching:\u001b[22m\u001b[39m [===========>                             ]  26.6 %\r",
      "    \u001b[36m\u001b[1mFetching:\u001b[22m\u001b[39m [===========>                             ]  27.1 %\r",
      "    \u001b[36m\u001b[1mFetching:\u001b[22m\u001b[39m [============>                            ]  27.5 %\r",
      "    \u001b[36m\u001b[1mFetching:\u001b[22m\u001b[39m [============>                            ]  28.0 %\r",
      "    \u001b[36m\u001b[1mFetching:\u001b[22m\u001b[39m [============>                            ]  28.4 %\r",
      "    \u001b[36m\u001b[1mFetching:\u001b[22m\u001b[39m [============>                            ]  28.9 %\r",
      "    \u001b[36m\u001b[1mFetching:\u001b[22m\u001b[39m [============>                            ]  29.4 %\r",
      "    \u001b[36m\u001b[1mFetching:\u001b[22m\u001b[39m [============>                            ]  29.8 %\r",
      "    \u001b[36m\u001b[1mFetching:\u001b[22m\u001b[39m [=============>                           ]  30.3 %\r",
      "    \u001b[36m\u001b[1mFetching:\u001b[22m\u001b[39m [=============>                           ]  30.7 %\r",
      "    \u001b[36m\u001b[1mFetching:\u001b[22m\u001b[39m [=============>                           ]  31.2 %\r",
      "    \u001b[36m\u001b[1mFetching:\u001b[22m\u001b[39m [=============>                           ]  31.7 %\r",
      "    \u001b[36m\u001b[1mFetching:\u001b[22m\u001b[39m [=============>                           ]  32.1 %\r",
      "    \u001b[36m\u001b[1mFetching:\u001b[22m\u001b[39m [==============>                          ]  32.6 %\r",
      "    \u001b[36m\u001b[1mFetching:\u001b[22m\u001b[39m [==============>                          ]  33.0 %\r",
      "    \u001b[36m\u001b[1mFetching:\u001b[22m\u001b[39m [==============>                          ]  33.5 %\r",
      "    \u001b[36m\u001b[1mFetching:\u001b[22m\u001b[39m [==============>                          ]  33.9 %\r",
      "    \u001b[36m\u001b[1mFetching:\u001b[22m\u001b[39m [==============>                          ]  34.4 %\r",
      "    \u001b[36m\u001b[1mFetching:\u001b[22m\u001b[39m [==============>                          ]  34.9 %\r",
      "    \u001b[36m\u001b[1mFetching:\u001b[22m\u001b[39m [===============>                         ]  35.3 %\r",
      "    \u001b[36m\u001b[1mFetching:\u001b[22m\u001b[39m [===============>                         ]  35.8 %\r",
      "    \u001b[36m\u001b[1mFetching:\u001b[22m\u001b[39m [===============>                         ]  36.2 %\r",
      "    \u001b[36m\u001b[1mFetching:\u001b[22m\u001b[39m [===============>                         ]  36.7 %\r",
      "    \u001b[36m\u001b[1mFetching:\u001b[22m\u001b[39m [===============>                         ]  37.2 %\r",
      "    \u001b[36m\u001b[1mFetching:\u001b[22m\u001b[39m [================>                        ]  37.6 %\r",
      "    \u001b[36m\u001b[1mFetching:\u001b[22m\u001b[39m [================>                        ]  38.1 %\r",
      "    \u001b[36m\u001b[1mFetching:\u001b[22m\u001b[39m [================>                        ]  38.5 %\r",
      "    \u001b[36m\u001b[1mFetching:\u001b[22m\u001b[39m [================>                        ]  39.0 %\r",
      "    \u001b[36m\u001b[1mFetching:\u001b[22m\u001b[39m [================>                        ]  39.4 %\r",
      "    \u001b[36m\u001b[1mFetching:\u001b[22m\u001b[39m [================>                        ]  39.9 %\r",
      "    \u001b[36m\u001b[1mFetching:\u001b[22m\u001b[39m [=================>                       ]  40.4 %\r",
      "    \u001b[36m\u001b[1mFetching:\u001b[22m\u001b[39m [=================>                       ]  40.8 %\r",
      "    \u001b[36m\u001b[1mFetching:\u001b[22m\u001b[39m [=================>                       ]  41.3 %\r",
      "    \u001b[36m\u001b[1mFetching:\u001b[22m\u001b[39m [=================>                       ]  41.7 %\r",
      "    \u001b[36m\u001b[1mFetching:\u001b[22m\u001b[39m [=================>                       ]  42.2 %\r",
      "    \u001b[36m\u001b[1mFetching:\u001b[22m\u001b[39m [==================>                      ]  42.7 %\r",
      "    \u001b[36m\u001b[1mFetching:\u001b[22m\u001b[39m [==================>                      ]  43.1 %\r",
      "    \u001b[36m\u001b[1mFetching:\u001b[22m\u001b[39m [==================>                      ]  43.6 %\r",
      "    \u001b[36m\u001b[1mFetching:\u001b[22m\u001b[39m [==================>                      ]  44.0 %\r",
      "    \u001b[36m\u001b[1mFetching:\u001b[22m\u001b[39m [==================>                      ]  44.5 %\r",
      "    \u001b[36m\u001b[1mFetching:\u001b[22m\u001b[39m [==================>                      ]  45.0 %\r",
      "    \u001b[36m\u001b[1mFetching:\u001b[22m\u001b[39m [===================>                     ]  45.4 %\r",
      "    \u001b[36m\u001b[1mFetching:\u001b[22m\u001b[39m [===================>                     ]  45.9 %\r",
      "    \u001b[36m\u001b[1mFetching:\u001b[22m\u001b[39m [===================>                     ]  46.3 %\r",
      "    \u001b[36m\u001b[1mFetching:\u001b[22m\u001b[39m [===================>                     ]  46.8 %\r",
      "    \u001b[36m\u001b[1mFetching:\u001b[22m\u001b[39m [===================>                     ]  47.2 %\r",
      "    \u001b[36m\u001b[1mFetching:\u001b[22m\u001b[39m [====================>                    ]  47.7 %\r",
      "    \u001b[36m\u001b[1mFetching:\u001b[22m\u001b[39m [====================>                    ]  48.2 %\r",
      "    \u001b[36m\u001b[1mFetching:\u001b[22m\u001b[39m [====================>                    ]  48.6 %\r",
      "    \u001b[36m\u001b[1mFetching:\u001b[22m\u001b[39m [====================>                    ]  49.1 %\r",
      "    \u001b[36m\u001b[1mFetching:\u001b[22m\u001b[39m [====================>                    ]  49.5 %\r",
      "    \u001b[36m\u001b[1mFetching:\u001b[22m\u001b[39m [====================>                    ]  50.0 %\r",
      "    \u001b[36m\u001b[1mFetching:\u001b[22m\u001b[39m [=====================>                   ]  50.5 %\r",
      "    \u001b[36m\u001b[1mFetching:\u001b[22m\u001b[39m [=====================>                   ]  50.9 %\r",
      "    \u001b[36m\u001b[1mFetching:\u001b[22m\u001b[39m [=====================>                   ]  51.4 %\r",
      "    \u001b[36m\u001b[1mFetching:\u001b[22m\u001b[39m [=====================>                   ]  51.8 %\r",
      "    \u001b[36m\u001b[1mFetching:\u001b[22m\u001b[39m [=====================>                   ]  52.3 %\r",
      "    \u001b[36m\u001b[1mFetching:\u001b[22m\u001b[39m [======================>                  ]  52.8 %\r",
      "    \u001b[36m\u001b[1mFetching:\u001b[22m\u001b[39m [======================>                  ]  53.2 %\r",
      "    \u001b[36m\u001b[1mFetching:\u001b[22m\u001b[39m [======================>                  ]  53.7 %\r",
      "    \u001b[36m\u001b[1mFetching:\u001b[22m\u001b[39m [======================>                  ]  54.1 %\r",
      "    \u001b[36m\u001b[1mFetching:\u001b[22m\u001b[39m [======================>                  ]  54.6 %\r",
      "    \u001b[36m\u001b[1mFetching:\u001b[22m\u001b[39m [=======================>                 ]  "
     ]
    },
    {
     "name": "stdout",
     "output_type": "stream",
     "text": [
      "\u001b[2K\u001b[?25h[1mFetching:\u001b[22m\u001b[39m [========================================>]  100.0 %"
     ]
    },
    {
     "name": "stderr",
     "output_type": "stream",
     "text": [
      "\u001b[32m\u001b[1m  Installed\u001b[22m\u001b[39m FixedPointNumbers ─ v0.8.2\n",
      "\u001b[32m\u001b[1m   Updating\u001b[22m\u001b[39m `~/.julia/environments/v1.4/Project.toml`\n",
      " \u001b[90m [8314cec4]\u001b[39m\u001b[93m ↑ PGFPlotsX v1.2.6 ⇒ v1.2.8\u001b[39m\n",
      "\u001b[32m\u001b[1m   Updating\u001b[22m\u001b[39m `~/.julia/environments/v1.4/Manifest.toml`\n",
      " \u001b[90m [53c48c17]\u001b[39m\u001b[93m ↑ FixedPointNumbers v0.8.1 ⇒ v0.8.2\u001b[39m\n",
      " \u001b[90m [8314cec4]\u001b[39m\u001b[93m ↑ PGFPlotsX v1.2.6 ⇒ v1.2.8\u001b[39m\n"
     ]
    }
   ],
   "source": [
    "] up"
   ]
  },
  {
   "cell_type": "code",
   "execution_count": 2,
   "metadata": {},
   "outputs": [
    {
     "name": "stderr",
     "output_type": "stream",
     "text": [
      "\u001b[32m\u001b[1m  Resolving\u001b[22m\u001b[39m package versions...\n",
      "\u001b[32m\u001b[1m   Updating\u001b[22m\u001b[39m `~/.julia/environments/v1.4/Project.toml`\n",
      "\u001b[90m [no changes]\u001b[39m\n",
      "\u001b[32m\u001b[1m   Updating\u001b[22m\u001b[39m `~/.julia/environments/v1.4/Manifest.toml`\n",
      "\u001b[90m [no changes]\u001b[39m\n",
      "\u001b[32m\u001b[1m  Resolving\u001b[22m\u001b[39m package versions...\n",
      "\u001b[32m\u001b[1m   Updating\u001b[22m\u001b[39m `~/.julia/environments/v1.4/Project.toml`\n",
      "\u001b[90m [no changes]\u001b[39m\n",
      "\u001b[32m\u001b[1m   Updating\u001b[22m\u001b[39m `~/.julia/environments/v1.4/Manifest.toml`\n",
      "\u001b[90m [no changes]\u001b[39m\n",
      "\u001b[32m\u001b[1m  Resolving\u001b[22m\u001b[39m package versions...\n",
      "\u001b[32m\u001b[1m   Updating\u001b[22m\u001b[39m `~/.julia/environments/v1.4/Project.toml`\n",
      " \u001b[90m [8314cec4]\u001b[39m\u001b[95m ↓ PGFPlotsX v1.2.8 ⇒ v1.2.6\u001b[39m\n",
      "\u001b[32m\u001b[1m   Updating\u001b[22m\u001b[39m `~/.julia/environments/v1.4/Manifest.toml`\n",
      " \u001b[90m [8314cec4]\u001b[39m\u001b[95m ↓ PGFPlotsX v1.2.8 ⇒ v1.2.6\u001b[39m\n",
      "\u001b[32m\u001b[1m  Resolving\u001b[22m\u001b[39m package versions...\n",
      "\u001b[32m\u001b[1m   Updating\u001b[22m\u001b[39m `~/.julia/environments/v1.4/Project.toml`\n",
      "\u001b[90m [no changes]\u001b[39m\n",
      "\u001b[32m\u001b[1m   Updating\u001b[22m\u001b[39m `~/.julia/environments/v1.4/Manifest.toml`\n",
      "\u001b[90m [no changes]\u001b[39m\n",
      "\u001b[32m\u001b[1m  Resolving\u001b[22m\u001b[39m package versions...\n",
      "\u001b[32m\u001b[1m   Updating\u001b[22m\u001b[39m `~/.julia/environments/v1.4/Project.toml`\n",
      "\u001b[90m [no changes]\u001b[39m\n",
      "\u001b[32m\u001b[1m   Updating\u001b[22m\u001b[39m `~/.julia/environments/v1.4/Manifest.toml`\n",
      "\u001b[90m [no changes]\u001b[39m\n",
      "\u001b[32m\u001b[1m  Resolving\u001b[22m\u001b[39m package versions...\n",
      "\u001b[32m\u001b[1m   Updating\u001b[22m\u001b[39m `~/.julia/environments/v1.4/Project.toml`\n",
      "\u001b[90m [no changes]\u001b[39m\n",
      "\u001b[32m\u001b[1m   Updating\u001b[22m\u001b[39m `~/.julia/environments/v1.4/Manifest.toml`\n",
      "\u001b[90m [no changes]\u001b[39m\n"
     ]
    }
   ],
   "source": [
    "import Pkg;\n",
    "Pkg.add(\"DataFrames\")\n",
    "Pkg.add(\"CSV\")\n",
    "Pkg.add(Pkg.PackageSpec(;name=\"PGFPlotsX\", version=\"1.2.6\"))\n",
    "Pkg.build(\"PGFPlotsX\")\n",
    "Pkg.add(\"Plots\")\n",
    "Pkg.add(\"Query\")\n",
    "Pkg.add(\"StatsPlots\")"
   ]
  },
  {
   "cell_type": "code",
   "execution_count": 3,
   "metadata": {},
   "outputs": [
    {
     "name": "stdout",
     "output_type": "stream",
     "text": [
      "\u001b[32m\u001b[1mStatus\u001b[22m\u001b[39m `~/.julia/environments/v1.4/Project.toml`\n",
      " \u001b[90m [336ed68f]\u001b[39m\u001b[37m CSV v0.7.3\u001b[39m\n",
      " \u001b[90m [a93c6f00]\u001b[39m\u001b[37m DataFrames v0.21.4\u001b[39m\n",
      " \u001b[90m [7073ff75]\u001b[39m\u001b[37m IJulia v1.21.2\u001b[39m\n",
      " \u001b[90m [8314cec4]\u001b[39m\u001b[37m PGFPlotsX v1.2.6\u001b[39m\n",
      " \u001b[90m [91a5bcdd]\u001b[39m\u001b[37m Plots v1.5.4\u001b[39m\n",
      " \u001b[90m [1a8c2f83]\u001b[39m\u001b[37m Query v0.12.2\u001b[39m\n",
      " \u001b[90m [f3b207a7]\u001b[39m\u001b[37m StatsPlots v0.14.6\u001b[39m\n"
     ]
    }
   ],
   "source": [
    "] st"
   ]
  },
  {
   "cell_type": "markdown",
   "metadata": {},
   "source": [
    "Função que lê um arquivo <em>file</em> e retorna ele em linhas."
   ]
  },
  {
   "cell_type": "code",
   "execution_count": 4,
   "metadata": {},
   "outputs": [
    {
     "data": {
      "text/plain": [
       "read_file (generic function with 1 method)"
      ]
     },
     "execution_count": 4,
     "metadata": {},
     "output_type": "execute_result"
    }
   ],
   "source": [
    "function read_file(file)\n",
    "    f = open(file);\n",
    "    return lines = readlines(f)\n",
    "end"
   ]
  },
  {
   "cell_type": "markdown",
   "metadata": {},
   "source": [
    "## SEQ, PTH, OMP\n",
    "Função que lê as linhas de um arquivo e retorna ele em forma de um Dataframe."
   ]
  },
  {
   "cell_type": "code",
   "execution_count": 13,
   "metadata": {},
   "outputs": [
    {
     "data": {
      "text/plain": [
       "measure_mandelbrot (generic function with 1 method)"
      ]
     },
     "execution_count": 13,
     "metadata": {},
     "output_type": "execute_result"
    }
   ],
   "source": [
    "using DataFrames\n",
    "using Printf\n",
    "\n",
    "function measure_mandelbrot(iteration, threads, start, lines)\n",
    "    info = Vector(undef, 10)\n",
    "    end_line = start + 9\n",
    "    for n in start:end_line\n",
    "        i = ((n-start) + 1)\n",
    "        new = lstrip(lines[n])\n",
    "        sp = split(new, \" \")\n",
    "        info[i] = sp[1]\n",
    "    end\n",
    "    return DataFrame(task_clock = parse(Float64,info[1]),\n",
    "        context_switches = parse(Float64,info[2]),\n",
    "        cpu_migrations = parse(Float64,info[3]),\n",
    "        page_faults = parse(Int,info[4]),\n",
    "        time_elapsed = parse(Float64,info[10]),\n",
    "        iteration = iteration,\n",
    "        threads = threads)\n",
    "end"
   ]
  },
  {
   "cell_type": "markdown",
   "metadata": {},
   "source": [
    "## CUDA"
   ]
  },
  {
   "cell_type": "code",
   "execution_count": 5,
   "metadata": {},
   "outputs": [
    {
     "data": {
      "text/plain": [
       "measure_mandelbrot (generic function with 1 method)"
      ]
     },
     "execution_count": 5,
     "metadata": {},
     "output_type": "execute_result"
    }
   ],
   "source": [
    "using DataFrames\n",
    "using Printf\n",
    "\n",
    "function measure_mandelbrot(iteration, threads, start, lines)\n",
    "    info = Vector(undef, 13)\n",
    "    end_line = start + 12\n",
    "    for n in start:end_line\n",
    "        i = ((n-start) + 1)\n",
    "        new = lstrip(lines[n])\n",
    "        sp = split(new, \" \")\n",
    "        info[i] = sp[1]\n",
    "    end\n",
    "    return DataFrame(task_clock = parse(Float64,info[1]),\n",
    "        context_switches = parse(Float64,info[2]),\n",
    "        cpu_migrations = parse(Float64,info[3]),\n",
    "        page_faults = parse(Int,info[4]),\n",
    "        time_elapsed = parse(Float64,info[13]),\n",
    "        iteration = iteration,\n",
    "        threads = threads)\n",
    "end"
   ]
  },
  {
   "cell_type": "markdown",
   "metadata": {},
   "source": [
    "## SEQ, PTH, OMP\n",
    "Função que gera um Dataframe dada o tamanho da imagem, o número de threads e as linhas do arquivo."
   ]
  },
  {
   "cell_type": "code",
   "execution_count": 6,
   "metadata": {},
   "outputs": [
    {
     "data": {
      "text/plain": [
       "make_Dataframe (generic function with 1 method)"
      ]
     },
     "execution_count": 6,
     "metadata": {},
     "output_type": "execute_result"
    }
   ],
   "source": [
    "function make_Dataframe(iteration, threads, lines)\n",
    "    results = DataFrame(task_clock = Float64[],\n",
    "        context_switches = Float64[],\n",
    "        cpu_migrations = Float64[],\n",
    "        page_faults = Int[],\n",
    "        time_elapsed = Float64[],\n",
    "        iteration = Int[],\n",
    "        threads = Int[])\n",
    "    start = 4\n",
    "    for s in iteration\n",
    "        for t in threads\n",
    "            append!(results,\n",
    "                measure_mandelbrot(s, t, start, lines)) \n",
    "            start = start + 14\n",
    "        end\n",
    "    end\n",
    "    return results\n",
    "end"
   ]
  },
  {
   "cell_type": "markdown",
   "metadata": {},
   "source": [
    "## CUDA"
   ]
  },
  {
   "cell_type": "code",
   "execution_count": 6,
   "metadata": {},
   "outputs": [
    {
     "data": {
      "text/plain": [
       "make_Dataframe (generic function with 1 method)"
      ]
     },
     "execution_count": 6,
     "metadata": {},
     "output_type": "execute_result"
    }
   ],
   "source": [
    "function make_Dataframe(iteration, threads, lines)\n",
    "    results = DataFrame(task_clock = Float64[],\n",
    "        context_switches = Float64[],\n",
    "        cpu_migrations = Float64[],\n",
    "        page_faults = Int[],\n",
    "        time_elapsed = Float64[],\n",
    "        iteration = Int[],\n",
    "        threads = Int[])\n",
    "    start = 4\n",
    "    for s in iteration\n",
    "        for t in threads\n",
    "            append!(results,\n",
    "                measure_mandelbrot(s, t, start, lines)) \n",
    "            start = start + 17\n",
    "        end\n",
    "    end\n",
    "    return results\n",
    "end"
   ]
  },
  {
   "cell_type": "markdown",
   "metadata": {},
   "source": [
    "Função que salva um Dataframe em .csv com o nome <em>filename</em>."
   ]
  },
  {
   "cell_type": "code",
   "execution_count": 7,
   "metadata": {},
   "outputs": [
    {
     "data": {
      "text/plain": [
       "read_csv_results (generic function with 1 method)"
      ]
     },
     "execution_count": 7,
     "metadata": {},
     "output_type": "execute_result"
    }
   ],
   "source": [
    "using CSV\n",
    "\n",
    "function save_csv_results(DataFrame, filename)\n",
    "    fname = string(filename, \".csv\")\n",
    "    CSV.write(fname, DataFrame)\n",
    "end\n",
    "function read_csv_results(filename)\n",
    "    copy = CSV.read(filename)\n",
    "    return copy\n",
    "end"
   ]
  },
  {
   "cell_type": "markdown",
   "metadata": {},
   "source": [
    "## Exercício 1: Apresentação e Análise de Medições para o Programa Sequencial"
   ]
  },
  {
   "cell_type": "markdown",
   "metadata": {},
   "source": [
    "Os arquivos lidos não continham \",\" e os **elementos** <em>task-clock</em>, <em>context-switches</em>, <em>cpu-migrations</em>, <em>page-faults</em>, <em>cycles</em>, <em>instuctions</em>, <em>branches</em>, <em>branch-misses</em> e <em>time elpsed</em>, para todos as versões."
   ]
  },
  {
   "cell_type": "markdown",
   "metadata": {},
   "source": [
    "Aqui é retirado a informação dos arquivos de log gerado pelo algoritmo sequencial de Mandelbrot, e é colocado em seus respectivos Dataframes. Altera-se os valores de <em>MAX_SIZE</em> e <em>MAX_NUM_THREAD</em> para alterar respectivamente o tamanho da imagem e o número de threads, ambos os valores são na base $2^x$.\n",
    "\n",
    "Como para as análises abaixo utilizamos as versões com e sem I/O deve executar ambos o arquivos: **mandelbrot_seq** e **mandelbrot_seq_noio**. Ou basta executar o Makefile com o run_measurement.sh, disponível com o arquivo."
   ]
  },
  {
   "cell_type": "code",
   "execution_count": 8,
   "metadata": {
    "scrolled": true
   },
   "outputs": [
    {
     "name": "stderr",
     "output_type": "stream",
     "text": [
      "┌ Info: Precompiling StatsPlots [f3b207a7-027a-5e70-b257-86293d7955fd]\n",
      "└ @ Base loading.jl:1260\n"
     ]
    },
    {
     "data": {
      "text/plain": [
       "parse_results_iteration (generic function with 1 method)"
      ]
     },
     "execution_count": 8,
     "metadata": {},
     "output_type": "execute_result"
    }
   ],
   "source": [
    "using DataFrames, Query, StatsPlots, Statistics\n",
    "function parse_results_threads(results)\n",
    "    parsed_results = results |>\n",
    "                    @groupby(_.threads) |>\n",
    "                    @map({threads = key(_),\n",
    "                          mean_time = mean(_.time_elapsed),\n",
    "                          ci_time = 1.96 * std(_.time_elapsed)}) |>\n",
    "                    DataFrame\n",
    "    \n",
    "    return parsed_results\n",
    "end\n",
    "\n",
    "function parse_results_iteration(results)\n",
    "    parsed_results = results |>\n",
    "                    @groupby(_.iteration) |>\n",
    "                    @map({iteration = key(_),\n",
    "                          mean_time = mean(_.time_elapsed),\n",
    "                          ci_time = 1.96 * std(_.time_elapsed)}) |>\n",
    "                    DataFrame\n",
    "    \n",
    "    return parsed_results\n",
    "end"
   ]
  },
  {
   "cell_type": "code",
   "execution_count": 10,
   "metadata": {},
   "outputs": [
    {
     "name": "stderr",
     "output_type": "stream",
     "text": [
      "┌ Warning: `CSV.read(input; kw...)` is deprecated in favor of `DataFrame!(CSV.File(input; kw...))`\n",
      "└ @ CSV /home/akira/.julia/packages/CSV/W9RT2/src/CSV.jl:40\n"
     ]
    },
    {
     "data": {
      "text/html": [
       "<table class=\"data-frame\"><thead><tr><th></th><th>iteration</th><th>mean_time</th><th>ci_time</th></tr><tr><th></th><th>Int64</th><th>Float64</th><th>Float64</th></tr></thead><tbody><p>8 rows × 3 columns</p><tr><th>1</th><td>1</td><td>0.710512</td><td>0.0334223</td></tr><tr><th>2</th><td>2</td><td>0.710862</td><td>0.0135739</td></tr><tr><th>3</th><td>3</td><td>0.719982</td><td>0.02325</td></tr><tr><th>4</th><td>4</td><td>0.71256</td><td>0.0261993</td></tr><tr><th>5</th><td>5</td><td>0.70973</td><td>0.0275163</td></tr><tr><th>6</th><td>6</td><td>0.720868</td><td>0.0186025</td></tr><tr><th>7</th><td>7</td><td>0.72845</td><td>0.0190411</td></tr><tr><th>8</th><td>8</td><td>0.727308</td><td>0.0222488</td></tr></tbody></table>"
      ],
      "text/latex": [
       "\\begin{tabular}{r|ccc}\n",
       "\t& iteration & mean\\_time & ci\\_time\\\\\n",
       "\t\\hline\n",
       "\t& Int64 & Float64 & Float64\\\\\n",
       "\t\\hline\n",
       "\t1 & 1 & 0.710512 & 0.0334223 \\\\\n",
       "\t2 & 2 & 0.710862 & 0.0135739 \\\\\n",
       "\t3 & 3 & 0.719982 & 0.02325 \\\\\n",
       "\t4 & 4 & 0.71256 & 0.0261993 \\\\\n",
       "\t5 & 5 & 0.70973 & 0.0275163 \\\\\n",
       "\t6 & 6 & 0.720868 & 0.0186025 \\\\\n",
       "\t7 & 7 & 0.72845 & 0.0190411 \\\\\n",
       "\t8 & 8 & 0.727308 & 0.0222488 \\\\\n",
       "\\end{tabular}\n"
      ],
      "text/plain": [
       "8×3 DataFrame\n",
       "│ Row │ iteration │ mean_time │ ci_time   │\n",
       "│     │ \u001b[90mInt64\u001b[39m     │ \u001b[90mFloat64\u001b[39m   │ \u001b[90mFloat64\u001b[39m   │\n",
       "├─────┼───────────┼───────────┼───────────┤\n",
       "│ 1   │ 1         │ 0.710512  │ 0.0334223 │\n",
       "│ 2   │ 2         │ 0.710862  │ 0.0135739 │\n",
       "│ 3   │ 3         │ 0.719982  │ 0.02325   │\n",
       "│ 4   │ 4         │ 0.71256   │ 0.0261993 │\n",
       "│ 5   │ 5         │ 0.70973   │ 0.0275163 │\n",
       "│ 6   │ 6         │ 0.720868  │ 0.0186025 │\n",
       "│ 7   │ 7         │ 0.72845   │ 0.0190411 │\n",
       "│ 8   │ 8         │ 0.727308  │ 0.0222488 │"
      ]
     },
     "execution_count": 10,
     "metadata": {},
     "output_type": "execute_result"
    }
   ],
   "source": [
    "MAX_SIZE = 8\n",
    "MAX_NUM_THREAD = 5\n",
    "s = [x for x in 1:MAX_SIZE]\n",
    "threads = [2 ^ x for x in 0:MAX_NUM_THREAD]\n",
    "\n",
    "lines_cuda_triple_spiral = read_file(\"results/mandelbrot_cuda_noio/triple_spiral_v2.log\")\n",
    "results_cuda_triple_spiral = make_Dataframe(s, threads, lines_cuda_triple_spiral)\n",
    "\n",
    "save_csv_results(results_cuda_triple_spiral, \"results_cuda_triple_spiral\")\n",
    "cuda_triple_spiral = read_csv_results(\"results_cuda_triple_spiral.csv\")\n",
    "parsed_threads_cuda_triple_spiral = (parse_results_threads(cuda_triple_spiral))\n",
    "parsed_iteration_cuda_triple_spiral = (parse_results_iteration(cuda_triple_spiral))"
   ]
  },
  {
   "cell_type": "code",
   "execution_count": 11,
   "metadata": {},
   "outputs": [
    {
     "name": "stderr",
     "output_type": "stream",
     "text": [
      "┌ Warning: `CSV.read(input; kw...)` is deprecated in favor of `DataFrame!(CSV.File(input; kw...))`\n",
      "└ @ CSV /home/akira/.julia/packages/CSV/W9RT2/src/CSV.jl:40\n"
     ]
    },
    {
     "data": {
      "text/html": [
       "<table class=\"data-frame\"><thead><tr><th></th><th>iteration</th><th>mean_time</th><th>ci_time</th></tr><tr><th></th><th>Int64</th><th>Float64</th><th>Float64</th></tr></thead><tbody><p>8 rows × 3 columns</p><tr><th>1</th><td>1</td><td>9.83536</td><td>11.4659</td></tr><tr><th>2</th><td>2</td><td>9.84052</td><td>11.5043</td></tr><tr><th>3</th><td>3</td><td>9.81962</td><td>11.498</td></tr><tr><th>4</th><td>4</td><td>9.82162</td><td>11.4967</td></tr><tr><th>5</th><td>5</td><td>9.82236</td><td>11.4868</td></tr><tr><th>6</th><td>6</td><td>9.83923</td><td>11.4725</td></tr><tr><th>7</th><td>7</td><td>9.82042</td><td>11.5048</td></tr><tr><th>8</th><td>8</td><td>9.83832</td><td>11.4662</td></tr></tbody></table>"
      ],
      "text/latex": [
       "\\begin{tabular}{r|ccc}\n",
       "\t& iteration & mean\\_time & ci\\_time\\\\\n",
       "\t\\hline\n",
       "\t& Int64 & Float64 & Float64\\\\\n",
       "\t\\hline\n",
       "\t1 & 1 & 9.83536 & 11.4659 \\\\\n",
       "\t2 & 2 & 9.84052 & 11.5043 \\\\\n",
       "\t3 & 3 & 9.81962 & 11.498 \\\\\n",
       "\t4 & 4 & 9.82162 & 11.4967 \\\\\n",
       "\t5 & 5 & 9.82236 & 11.4868 \\\\\n",
       "\t6 & 6 & 9.83923 & 11.4725 \\\\\n",
       "\t7 & 7 & 9.82042 & 11.5048 \\\\\n",
       "\t8 & 8 & 9.83832 & 11.4662 \\\\\n",
       "\\end{tabular}\n"
      ],
      "text/plain": [
       "8×3 DataFrame\n",
       "│ Row │ iteration │ mean_time │ ci_time │\n",
       "│     │ \u001b[90mInt64\u001b[39m     │ \u001b[90mFloat64\u001b[39m   │ \u001b[90mFloat64\u001b[39m │\n",
       "├─────┼───────────┼───────────┼─────────┤\n",
       "│ 1   │ 1         │ 9.83536   │ 11.4659 │\n",
       "│ 2   │ 2         │ 9.84052   │ 11.5043 │\n",
       "│ 3   │ 3         │ 9.81962   │ 11.498  │\n",
       "│ 4   │ 4         │ 9.82162   │ 11.4967 │\n",
       "│ 5   │ 5         │ 9.82236   │ 11.4868 │\n",
       "│ 6   │ 6         │ 9.83923   │ 11.4725 │\n",
       "│ 7   │ 7         │ 9.82042   │ 11.5048 │\n",
       "│ 8   │ 8         │ 9.83832   │ 11.4662 │"
      ]
     },
     "execution_count": 11,
     "metadata": {},
     "output_type": "execute_result"
    }
   ],
   "source": [
    "MAX_SIZE = 8\n",
    "MAX_NUM_THREAD = 6\n",
    "s = [x for x in 1:MAX_SIZE]\n",
    "threads = [x for x in 2:MAX_NUM_THREAD]\n",
    "\n",
    "lines_ompi_triple_spiral = read_file(\"results/mandelbrot_ompi_noio/triple_spiral.log\")\n",
    "results_ompi_triple_spiral = make_Dataframe(s, threads, lines_ompi_triple_spiral)\n",
    "\n",
    "save_csv_results(results_ompi_triple_spiral, \"results_ompi_triple_spiral\")\n",
    "ompi_triple_spiral = read_csv_results(\"results_ompi_triple_spiral.csv\")\n",
    "parsed_threads_ompi_triple_spiral = (parse_results_threads(ompi_triple_spiral))\n",
    "parsed_iteration_ompi_triple_spiral = (parse_results_iteration(ompi_triple_spiral))"
   ]
  },
  {
   "cell_type": "code",
   "execution_count": 57,
   "metadata": {
    "scrolled": true
   },
   "outputs": [
    {
     "data": {
      "text/html": [
       "<table class=\"data-frame\"><thead><tr><th></th><th>iteration</th><th>mean_time</th><th>ci_time</th></tr><tr><th></th><th>Int64</th><th>Float64</th><th>Float64</th></tr></thead><tbody><p>8 rows × 3 columns</p><tr><th>1</th><td>1</td><td>22.1969</td><td>NaN</td></tr><tr><th>2</th><td>2</td><td>22.3583</td><td>NaN</td></tr><tr><th>3</th><td>3</td><td>22.1904</td><td>NaN</td></tr><tr><th>4</th><td>4</td><td>22.1909</td><td>NaN</td></tr><tr><th>5</th><td>5</td><td>22.1964</td><td>NaN</td></tr><tr><th>6</th><td>6</td><td>22.1899</td><td>NaN</td></tr><tr><th>7</th><td>7</td><td>22.1931</td><td>NaN</td></tr><tr><th>8</th><td>8</td><td>22.1983</td><td>NaN</td></tr></tbody></table>"
      ],
      "text/latex": [
       "\\begin{tabular}{r|ccc}\n",
       "\t& iteration & mean\\_time & ci\\_time\\\\\n",
       "\t\\hline\n",
       "\t& Int64 & Float64 & Float64\\\\\n",
       "\t\\hline\n",
       "\t1 & 1 & 22.1969 & NaN \\\\\n",
       "\t2 & 2 & 22.3583 & NaN \\\\\n",
       "\t3 & 3 & 22.1904 & NaN \\\\\n",
       "\t4 & 4 & 22.1909 & NaN \\\\\n",
       "\t5 & 5 & 22.1964 & NaN \\\\\n",
       "\t6 & 6 & 22.1899 & NaN \\\\\n",
       "\t7 & 7 & 22.1931 & NaN \\\\\n",
       "\t8 & 8 & 22.1983 & NaN \\\\\n",
       "\\end{tabular}\n"
      ],
      "text/plain": [
       "8×3 DataFrame\n",
       "│ Row │ iteration │ mean_time │ ci_time │\n",
       "│     │ \u001b[90mInt64\u001b[39m     │ \u001b[90mFloat64\u001b[39m   │ \u001b[90mFloat64\u001b[39m │\n",
       "├─────┼───────────┼───────────┼─────────┤\n",
       "│ 1   │ 1         │ 22.1969   │ NaN     │\n",
       "│ 2   │ 2         │ 22.3583   │ NaN     │\n",
       "│ 3   │ 3         │ 22.1904   │ NaN     │\n",
       "│ 4   │ 4         │ 22.1909   │ NaN     │\n",
       "│ 5   │ 5         │ 22.1964   │ NaN     │\n",
       "│ 6   │ 6         │ 22.1899   │ NaN     │\n",
       "│ 7   │ 7         │ 22.1931   │ NaN     │\n",
       "│ 8   │ 8         │ 22.1983   │ NaN     │"
      ]
     },
     "execution_count": 57,
     "metadata": {},
     "output_type": "execute_result"
    }
   ],
   "source": [
    "MAX_SIZE = 8\n",
    "MAX_NUM_THREAD = 0\n",
    "s = [x for x in 1:MAX_SIZE]\n",
    "threads = [2 ^ x for x in 0:MAX_NUM_THREAD]\n",
    "\n",
    "lines_seq_triple_spiral_noio = read_file(\"results/mandelbrot_seq_noio/triple_spiral.log\")\n",
    "results_seq_triple_spiral_noio = make_Dataframe(s, threads, lines_seq_triple_spiral_noio)\n",
    "\n",
    "save_csv_results(results_seq_triple_spiral_noio, \"results_seq_triple_spiral_noio\")\n",
    "seq_triple_spiral = read_csv_results(\"results_seq_triple_spiral_noio.csv\")\n",
    "parsed_threads_seq_triple_spiral = (parse_results_threads(seq_triple_spiral))\n",
    "parsed_iteration_seq_triple_spiral = (parse_results_iteration(seq_triple_spiral))"
   ]
  },
  {
   "cell_type": "code",
   "execution_count": 58,
   "metadata": {},
   "outputs": [
    {
     "data": {
      "text/html": [
       "<table class=\"data-frame\"><thead><tr><th></th><th>iteration</th><th>mean_time</th><th>ci_time</th></tr><tr><th></th><th>Int64</th><th>Float64</th><th>Float64</th></tr></thead><tbody><p>8 rows × 3 columns</p><tr><th>1</th><td>1</td><td>10.2685</td><td>12.2909</td></tr><tr><th>2</th><td>2</td><td>10.2721</td><td>12.2465</td></tr><tr><th>3</th><td>3</td><td>10.2795</td><td>12.2408</td></tr><tr><th>4</th><td>4</td><td>10.2927</td><td>12.2121</td></tr><tr><th>5</th><td>5</td><td>10.3164</td><td>12.2111</td></tr><tr><th>6</th><td>6</td><td>10.3156</td><td>12.177</td></tr><tr><th>7</th><td>7</td><td>10.3254</td><td>12.1858</td></tr><tr><th>8</th><td>8</td><td>10.3294</td><td>12.1734</td></tr></tbody></table>"
      ],
      "text/latex": [
       "\\begin{tabular}{r|ccc}\n",
       "\t& iteration & mean\\_time & ci\\_time\\\\\n",
       "\t\\hline\n",
       "\t& Int64 & Float64 & Float64\\\\\n",
       "\t\\hline\n",
       "\t1 & 1 & 10.2685 & 12.2909 \\\\\n",
       "\t2 & 2 & 10.2721 & 12.2465 \\\\\n",
       "\t3 & 3 & 10.2795 & 12.2408 \\\\\n",
       "\t4 & 4 & 10.2927 & 12.2121 \\\\\n",
       "\t5 & 5 & 10.3164 & 12.2111 \\\\\n",
       "\t6 & 6 & 10.3156 & 12.177 \\\\\n",
       "\t7 & 7 & 10.3254 & 12.1858 \\\\\n",
       "\t8 & 8 & 10.3294 & 12.1734 \\\\\n",
       "\\end{tabular}\n"
      ],
      "text/plain": [
       "8×3 DataFrame\n",
       "│ Row │ iteration │ mean_time │ ci_time │\n",
       "│     │ \u001b[90mInt64\u001b[39m     │ \u001b[90mFloat64\u001b[39m   │ \u001b[90mFloat64\u001b[39m │\n",
       "├─────┼───────────┼───────────┼─────────┤\n",
       "│ 1   │ 1         │ 10.2685   │ 12.2909 │\n",
       "│ 2   │ 2         │ 10.2721   │ 12.2465 │\n",
       "│ 3   │ 3         │ 10.2795   │ 12.2408 │\n",
       "│ 4   │ 4         │ 10.2927   │ 12.2121 │\n",
       "│ 5   │ 5         │ 10.3164   │ 12.2111 │\n",
       "│ 6   │ 6         │ 10.3156   │ 12.177  │\n",
       "│ 7   │ 7         │ 10.3254   │ 12.1858 │\n",
       "│ 8   │ 8         │ 10.3294   │ 12.1734 │"
      ]
     },
     "execution_count": 58,
     "metadata": {},
     "output_type": "execute_result"
    }
   ],
   "source": [
    "MAX_SIZE = 8\n",
    "MAX_NUM_THREAD = 5\n",
    "s = [x for x in 1:MAX_SIZE]\n",
    "threads = [2 ^ x for x in 0:MAX_NUM_THREAD]\n",
    "\n",
    "lines_pth_triple_spiral_noio = read_file(\"results/mandelbrot_pth_noio/triple_spiral.log\")\n",
    "results_pth_triple_spiral_noio = make_Dataframe(s, threads, lines_pth_triple_spiral_noio)\n",
    "save_csv_results(results_pth_triple_spiral_noio, \"results_pth_triple_spiral_noio\")\n",
    "pth_triple_spiral = read_csv_results(\"results_pth_triple_spiral_noio.csv\")\n",
    "parsed_threads_pth_triple_spiral = (parse_results_threads(pth_triple_spiral))\n",
    "parsed_iteration_pth_triple_spiral = (parse_results_iteration(pth_triple_spiral))\n",
    "\n",
    "lines_omp_triple_spiral_noio = read_file(\"results/mandelbrot_omp_noio/triple_spiral.log\")\n",
    "results_omp_triple_spiral_noio = make_Dataframe(s, threads, lines_omp_triple_spiral_noio)\n",
    "save_csv_results(results_omp_triple_spiral_noio, \"results_omp_triple_spiral_noio\")\n",
    "omp_triple_spiral = read_csv_results(\"results_omp_triple_spiral_noio.csv\")\n",
    "parsed_threads_omp_triple_spiral = (parse_results_threads(omp_triple_spiral))\n",
    "parsed_iteration_omp_triple_spiral = (parse_results_iteration(omp_triple_spiral))"
   ]
  }
 ],
 "metadata": {
  "kernelspec": {
   "display_name": "Julia 1.4.2",
   "language": "julia",
   "name": "julia-1.4"
  },
  "language_info": {
   "file_extension": ".jl",
   "mimetype": "application/julia",
   "name": "julia",
   "version": "1.4.2"
  }
 },
 "nbformat": 4,
 "nbformat_minor": 2
}
